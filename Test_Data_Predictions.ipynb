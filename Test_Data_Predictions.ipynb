{
 "cells": [
  {
   "cell_type": "code",
   "execution_count": 1,
   "metadata": {},
   "outputs": [],
   "source": [
    "import pandas as pd\n",
    "import numpy as np \n",
    "import pickle\n",
    "from sklearn.preprocessing import PolynomialFeatures\n",
    "pd.set_option('display.max_columns', 300)"
   ]
  },
  {
   "cell_type": "markdown",
   "metadata": {},
   "source": [
    "## Step 1: Read in hold out data, scalers, and best model"
   ]
  },
  {
   "cell_type": "code",
   "execution_count": 5,
   "metadata": {
    "scrolled": true
   },
   "outputs": [],
   "source": [
    "df_test = pd.read_csv('kc_house_data_test_features.csv', index_col=0)#.drop(columns='Unnamed: 0')"
   ]
  },
  {
   "cell_type": "code",
   "execution_count": 6,
   "metadata": {},
   "outputs": [],
   "source": [
    "infile = open(\"model.pickle\",'rb')\n",
    "model = pickle.load(infile)\n",
    "infile.close()"
   ]
  },
  {
   "cell_type": "code",
   "execution_count": 7,
   "metadata": {},
   "outputs": [],
   "source": [
    "infile = open('select_column.pickle', 'rb')\n",
    "select_column = pickle.load(infile)\n",
    "infile.close()"
   ]
  },
  {
   "cell_type": "code",
   "execution_count": 8,
   "metadata": {},
   "outputs": [
    {
     "data": {
      "text/plain": [
       "Index([       'date',       'price',    'bedrooms',   'bathrooms',\n",
       "       'sqft_living',    'sqft_lot',      'floors',  'waterfront',\n",
       "              'view',   'condition',\n",
       "       ...\n",
       "                   7,             8,             9,            10,\n",
       "                  11,            12,     'yr_sold',  'month_sold',\n",
       "         'renovated',  'multiplier'],\n",
       "      dtype='object', length=109)"
      ]
     },
     "execution_count": 8,
     "metadata": {},
     "output_type": "execute_result"
    }
   ],
   "source": [
    "select_column"
   ]
  },
  {
   "cell_type": "code",
   "execution_count": 9,
   "metadata": {},
   "outputs": [],
   "source": [
    "df_test['grade_sqft_living'] = (df_test.grade**2) * df_test.sqft_living"
   ]
  },
  {
   "cell_type": "code",
   "execution_count": 10,
   "metadata": {},
   "outputs": [],
   "source": [
    "df_test['grade_sqft_above'] = (df_test.grade**2) * df_test.sqft_above"
   ]
  },
  {
   "cell_type": "code",
   "execution_count": 11,
   "metadata": {},
   "outputs": [],
   "source": [
    "df_test['grade_sqft_living15'] = (df_test.grade**2) * df_test.sqft_living15"
   ]
  },
  {
   "cell_type": "code",
   "execution_count": 12,
   "metadata": {},
   "outputs": [],
   "source": [
    "df_test['grade_bathrooms'] = (df_test.grade**2) * df_test.bathrooms"
   ]
  },
  {
   "cell_type": "code",
   "execution_count": 13,
   "metadata": {},
   "outputs": [],
   "source": [
    "df_test['multi_floor'] = [0 if x == 1 else 1 for x in df_test.floors] "
   ]
  },
  {
   "cell_type": "code",
   "execution_count": null,
   "metadata": {},
   "outputs": [],
   "source": [
    "df_test['zip_by_price'] = df_test['zipcode']\n",
    "df_test['zip_by_price'].replace(zip_rank, inplace = True)"
   ]
  },
  {
   "cell_type": "code",
   "execution_count": 14,
   "metadata": {},
   "outputs": [],
   "source": [
    "df_test['renovated'] = df_test.yr_renovated\n",
    "df_test.renovated = df_test.renovated.apply(lambda x: 2 if x != 0 else 1)\n",
    "df_test['multiplier'] = ((df_test.renovated) * df_test.sqft_living)"
   ]
  },
  {
   "cell_type": "code",
   "execution_count": null,
   "metadata": {
    "scrolled": true
   },
   "outputs": [],
   "source": [
    "df_test['zipcode'].value_counts()"
   ]
  },
  {
   "cell_type": "code",
   "execution_count": null,
   "metadata": {
    "scrolled": true
   },
   "outputs": [],
   "source": [
    "df_test.info()"
   ]
  },
  {
   "cell_type": "code",
   "execution_count": 15,
   "metadata": {},
   "outputs": [],
   "source": [
    "df_test_2 = df_test.drop(['date', 'lat', 'long', 'id'], axis=1)"
   ]
  },
  {
   "cell_type": "code",
   "execution_count": 16,
   "metadata": {},
   "outputs": [
    {
     "data": {
      "text/plain": [
       "(4322, 23)"
      ]
     },
     "execution_count": 16,
     "metadata": {},
     "output_type": "execute_result"
    }
   ],
   "source": [
    "df_test_2.shape"
   ]
  },
  {
   "cell_type": "code",
   "execution_count": null,
   "metadata": {},
   "outputs": [],
   "source": [
    "df_test.shape"
   ]
  },
  {
   "cell_type": "code",
   "execution_count": 21,
   "metadata": {},
   "outputs": [
    {
     "data": {
      "text/plain": [
       "(4322, 104)"
      ]
     },
     "execution_count": 21,
     "metadata": {},
     "output_type": "execute_result"
    }
   ],
   "source": [
    "df_test_2.shape"
   ]
  },
  {
   "cell_type": "code",
   "execution_count": 17,
   "metadata": {},
   "outputs": [],
   "source": [
    "zip_dummy = pd.Series(df_test[\"zipcode\"])\n",
    "df_test_2 = df_test_2.merge(pd.get_dummies(zip_dummy), how = 'left', left_index=True, right_index=True)"
   ]
  },
  {
   "cell_type": "code",
   "execution_count": 20,
   "metadata": {},
   "outputs": [],
   "source": [
    "grade_dummy = pd.Series(df_test[\"grade\"])\n",
    "df_test_2 = df_test_2.merge(pd.get_dummies(grade_dummy), how = 'left', left_index=True, right_index=True)"
   ]
  },
  {
   "cell_type": "code",
   "execution_count": null,
   "metadata": {},
   "outputs": [],
   "source": [
    "df_test_2.info()"
   ]
  },
  {
   "cell_type": "code",
   "execution_count": null,
   "metadata": {},
   "outputs": [],
   "source": [
    "df_test_2"
   ]
  },
  {
   "cell_type": "code",
   "execution_count": null,
   "metadata": {},
   "outputs": [],
   "source": [
    "final_answer = model.predict(df_test_2[select_column])"
   ]
  },
  {
   "cell_type": "code",
   "execution_count": null,
   "metadata": {
    "scrolled": true
   },
   "outputs": [],
   "source": [
    "list(df_test_2.columns)"
   ]
  },
  {
   "cell_type": "code",
   "execution_count": null,
   "metadata": {},
   "outputs": [],
   "source": [
    "df_final = pd.DataFrame(final_answers)"
   ]
  },
  {
   "cell_type": "code",
   "execution_count": null,
   "metadata": {},
   "outputs": [],
   "source": [
    "df_final.to_csv('housing_preds_anthony_conte.csv')"
   ]
  },
  {
   "cell_type": "code",
   "execution_count": 22,
   "metadata": {},
   "outputs": [
    {
     "data": {
      "text/plain": [
       "(4322,\n",
       " array([526809.34392293, 526809.34392293, 408267.43437535, ...,\n",
       "        377340.44679334, 386925.56886222, 377507.65186498]))"
      ]
     },
     "execution_count": 22,
     "metadata": {},
     "output_type": "execute_result"
    }
   ],
   "source": [
    "final_answers = model.predict(df_test_2[['bedrooms',\n",
    " 'bathrooms',\n",
    " 'sqft_living',\n",
    " 'sqft_lot',\n",
    " 'floors',\n",
    " 'waterfront',\n",
    " 'view',\n",
    " 'condition',\n",
    " 'sqft_above',\n",
    " 'sqft_basement',\n",
    " 'yr_built',\n",
    " 'yr_renovated',\n",
    " 'sqft_living15',\n",
    " 'sqft_lot15',\n",
    " 'grade_sqft_living',\n",
    " 'grade_sqft_above',\n",
    " 'grade_sqft_living15',\n",
    " 'grade_bathrooms',\n",
    " 'renovated',\n",
    " 'multiplier',\n",
    " 'multi_floor',\n",
    " 98001,\n",
    " 98002,\n",
    " 98003,\n",
    " 98004,\n",
    " 98005,\n",
    " 98006,\n",
    " 98007,\n",
    " 98008,\n",
    " 98010,\n",
    " 98011,\n",
    " 98014,\n",
    " 98019,\n",
    " 98022,\n",
    " 98023,\n",
    " 98024,\n",
    " 98027,\n",
    " 98028,\n",
    " 98029,\n",
    " 98030,\n",
    " 98031,\n",
    " 98032,\n",
    " 98033,\n",
    " 98034,\n",
    " 98038,\n",
    " 98039,\n",
    " 98040,\n",
    " 98042,\n",
    " 98045,\n",
    " 98052,\n",
    " 98053,\n",
    " 98055,\n",
    " 98056,\n",
    " 98058,\n",
    " 98059,\n",
    " 98065,\n",
    " 98070,\n",
    " 98072,\n",
    " 98074,\n",
    " 98075,\n",
    " 98077,\n",
    " 98092,\n",
    " 98102,\n",
    " 98105,\n",
    " 98106,\n",
    " 98107,\n",
    " 98108,\n",
    " 98109,\n",
    " 98112,\n",
    " 98115,\n",
    " 98116,\n",
    " 98117,\n",
    " 98118,\n",
    " 98119,\n",
    " 98122,\n",
    " 98125,\n",
    " 98126,\n",
    " 98133,\n",
    " 98136,\n",
    " 98144,\n",
    " 98146,\n",
    " 98148,\n",
    " 98155,\n",
    " 98166,\n",
    " 98168,\n",
    " 98177,\n",
    " 98178,\n",
    " 98188,\n",
    " 98198,\n",
    " 98199,\n",
    " 1,\n",
    " 4,\n",
    " 5,\n",
    " 6,\n",
    " 7,\n",
    " 8,\n",
    " 9,\n",
    " 10,\n",
    " 11,\n",
    " 12]])\n",
    "len(final_answers), final_answers"
   ]
  },
  {
   "cell_type": "code",
   "execution_count": null,
   "metadata": {},
   "outputs": [],
   "source": [
    "len(df_final)"
   ]
  },
  {
   "cell_type": "code",
   "execution_count": 23,
   "metadata": {},
   "outputs": [],
   "source": [
    "df_final = pd.DataFrame(final_answers)\n",
    "df_final.to_csv('housing_preds_anthony_conte.csv')"
   ]
  },
  {
   "cell_type": "code",
   "execution_count": null,
   "metadata": {},
   "outputs": [],
   "source": [
    "yr_built_dummy = pd.get_dummies(df_test.yr_built)\n",
    "df_test = pd.concat([df_test,yr_built_dummy],axis='columns')"
   ]
  },
  {
   "cell_type": "code",
   "execution_count": null,
   "metadata": {},
   "outputs": [],
   "source": [
    "df_test['renovated'] = df_test.yr_renovated\n",
    "df_test.renovated = df_test.renovated.apply(lambda x: 2 if x != 0 else 1)\n",
    "df_test['multiplier'] = ((df_test.renovated) * df_test.sqft_living)"
   ]
  },
  {
   "cell_type": "code",
   "execution_count": null,
   "metadata": {},
   "outputs": [],
   "source": [
    "df_test.head()"
   ]
  },
  {
   "cell_type": "markdown",
   "metadata": {},
   "source": [
    "## Step 3: Predict the holdout set"
   ]
  },
  {
   "cell_type": "code",
   "execution_count": null,
   "metadata": {},
   "outputs": [],
   "source": [
    "list(df_test)"
   ]
  },
  {
   "cell_type": "code",
   "execution_count": null,
   "metadata": {},
   "outputs": [],
   "source": [
    "df_test.head()"
   ]
  },
  {
   "cell_type": "raw",
   "metadata": {},
   "source": [
    "final_columns = list(df_test[0])"
   ]
  },
  {
   "cell_type": "code",
   "execution_count": null,
   "metadata": {},
   "outputs": [],
   "source": [
    "df_test[final_columns]"
   ]
  },
  {
   "cell_type": "markdown",
   "metadata": {},
   "source": [
    "## Step 4: Export your predictions"
   ]
  },
  {
   "cell_type": "code",
   "execution_count": null,
   "metadata": {},
   "outputs": [],
   "source": [
    "final_answers = model.predict(df_test[final_columns])"
   ]
  }
 ],
 "metadata": {
  "kernelspec": {
   "display_name": "Python 3",
   "language": "python",
   "name": "python3"
  },
  "language_info": {
   "codemirror_mode": {
    "name": "ipython",
    "version": 3
   },
   "file_extension": ".py",
   "mimetype": "text/x-python",
   "name": "python",
   "nbconvert_exporter": "python",
   "pygments_lexer": "ipython3",
   "version": "3.8.5"
  }
 },
 "nbformat": 4,
 "nbformat_minor": 2
}
